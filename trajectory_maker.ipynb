{
 "cells": [
  {
   "cell_type": "markdown",
   "metadata": {},
   "source": [
    "This notebook plots a simple parameterization for a trajectory."
   ]
  },
  {
   "cell_type": "code",
   "execution_count": 1,
   "metadata": {},
   "outputs": [],
   "source": [
    "import sys\n",
    "!{sys.executable} -m pip install --quiet numpy\n",
    "!{sys.executable} -m pip install --quiet matplotlib\n",
    "\n",
    "import matplotlib.pyplot as plt\n",
    "import numpy as np\n",
    "import ipywidgets as widgets\n",
    "from ipywidgets import interactive_output, HBox"
   ]
  },
  {
   "cell_type": "markdown",
   "metadata": {},
   "source": [
    "Define a routine for the trajectory.  The current trajectory ($T_9$ vs. time) is given by $T_9(t) = a * \\exp(-t/\\tau_1) + b * t^n * (1 + \\tanh((t - t_0)/\\tau_2) - b * \\delta_{n,0} * (1 + \\tanh((t_0/\\tau_2))$."
   ]
  },
  {
   "cell_type": "code",
   "execution_count": 2,
   "metadata": {},
   "outputs": [],
   "source": [
    "def get_trajectory(t, a, tau_1, b, n, t_0, tau_2):\n",
    "    result = a * np.exp(-t/tau_1) + b * np.power(t, n) * (1 - np.tanh((t - t_0)/tau_2))\n",
    "    if n == 0:\n",
    "        result -= b * (1 + np.tanh(t_0/tau_2))\n",
    "    return result"
   ]
  },
  {
   "cell_type": "markdown",
   "metadata": {},
   "source": [
    "Plot the trajectory.  Vary the input parameters as desired.  Click on the *Save file* box to save trajectory to \"my_file.txt\"."
   ]
  },
  {
   "cell_type": "code",
   "execution_count": 3,
   "metadata": {},
   "outputs": [
    {
     "data": {
      "application/vnd.jupyter.widget-view+json": {
       "model_id": "549e67e7048e4256a25deb65b30b938c",
       "version_major": 2,
       "version_minor": 0
      },
      "text/plain": [
       "HBox(children=(BoundedFloatText(value=10.0, max=20.0, step=0.01), BoundedFloatText(value=1.0, step=0.01)))"
      ]
     },
     "metadata": {},
     "output_type": "display_data"
    },
    {
     "data": {
      "application/vnd.jupyter.widget-view+json": {
       "model_id": "4bc2e35ad5bf45e896e1f22ad8d79308",
       "version_major": 2,
       "version_minor": 0
      },
      "text/plain": [
       "HBox(children=(BoundedFloatText(value=1.0, step=0.01), BoundedFloatText(value=1.0, max=10.0, step=0.01)))"
      ]
     },
     "metadata": {},
     "output_type": "display_data"
    },
    {
     "data": {
      "application/vnd.jupyter.widget-view+json": {
       "model_id": "edf6e5898b0c46dabb820023cee92d98",
       "version_major": 2,
       "version_minor": 0
      },
      "text/plain": [
       "HBox(children=(BoundedFloatText(value=3.0, step=0.01), BoundedFloatText(value=0.1, max=10.0, step=0.01)))"
      ]
     },
     "metadata": {},
     "output_type": "display_data"
    },
    {
     "data": {
      "application/vnd.jupyter.widget-view+json": {
       "model_id": "d2765ba6eae74f9fa13584185711b9b7",
       "version_major": 2,
       "version_minor": 0
      },
      "text/plain": [
       "HBox(children=(BoundedFloatText(value=10000000.0, max=10000000000.0, step=11.0), Checkbox(value=False, descrip…"
      ]
     },
     "metadata": {},
     "output_type": "display_data"
    },
    {
     "data": {
      "application/vnd.jupyter.widget-view+json": {
       "model_id": "ce4376ee3d7b4de582ddfb4cca67fed5",
       "version_major": 2,
       "version_minor": 0
      },
      "text/plain": [
       "Output()"
      ]
     },
     "metadata": {},
     "output_type": "display_data"
    }
   ],
   "source": [
    "def plot_traj(a, tau_1, b, n, t_0, tau_2, rho_0, save_file):\n",
    "    t = np.linspace(0, 5, 1000)\n",
    "    x = get_trajectory(t, a, tau_1, b, n, t_0, tau_2)\n",
    "    plt.plot(t, x)\n",
    "    if save_file:\n",
    "         with open(\"my_file.txt\", \"w\") as file:\n",
    "             for i in range(len(t)):\n",
    "                 file.write(f\"{t[i]}, {x[i]}, {rho_0 * np.pow(x[i] / x[0], 3)}\\n\")\n",
    "         file.close()\n",
    "            \n",
    "\n",
    "a = widgets.BoundedFloatText(value=10, min=0, max = 20, step=0.01,  descriptions='a:', disabled=False)\n",
    "tau_1 = widgets.BoundedFloatText(value=1, min=0, max = 100, step=0.01, descriptions='tau_1:', disabled=False)\n",
    "b = widgets.BoundedFloatText(value=1, min=0, max = 100, step=0.01, descriptions='b:', disabled=False)\n",
    "n = widgets.BoundedFloatText(value=1, min=0, max = 10, step=0.01, descriptions='n:', disabled=False)\n",
    "t_0 = widgets.BoundedFloatText(value=3, min=0, max = 100, step=0.01, descriptions='t_0:', disabled=False)\n",
    "tau_2 = widgets.BoundedFloatText(value=0.1, min=0, max = 10, step=0.01, descriptions='tau_2:', disabled=False)\n",
    "rho_0 = widgets.BoundedFloatText(value=1.e7, min=0, max = 1.e10, step=11, descriptions='rho_0:', disabled=False)\n",
    "save_file = widgets.Checkbox(value=False, description='Save file', disabled=False, indent=True)\n",
    "\n",
    "out = interactive_output(plot_traj, {'a': a, 'tau_1': tau_1, 'b': b, 'n': n, 't_0': t_0, 'tau_2': tau_2, 'rho_0': rho_0, 'save_file': save_file})\n",
    "\n",
    "display(HBox([a, tau_1]), HBox([b, n]), HBox([t_0, tau_2]), HBox([rho_0, save_file]), out)"
   ]
  },
  {
   "cell_type": "code",
   "execution_count": null,
   "metadata": {},
   "outputs": [],
   "source": []
  },
  {
   "cell_type": "code",
   "execution_count": null,
   "metadata": {},
   "outputs": [],
   "source": []
  }
 ],
 "metadata": {
  "kernelspec": {
   "display_name": "Python 3 (ipykernel)",
   "language": "python",
   "name": "python3"
  },
  "language_info": {
   "codemirror_mode": {
    "name": "ipython",
    "version": 3
   },
   "file_extension": ".py",
   "mimetype": "text/x-python",
   "name": "python",
   "nbconvert_exporter": "python",
   "pygments_lexer": "ipython3",
   "version": "3.13.2"
  }
 },
 "nbformat": 4,
 "nbformat_minor": 4
}
