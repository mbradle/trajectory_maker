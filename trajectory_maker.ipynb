{
 "cells": [
  {
   "cell_type": "markdown",
   "metadata": {},
   "source": [
    "This notebook plots a simple parameterization for a trajectory."
   ]
  },
  {
   "cell_type": "code",
   "execution_count": 1,
   "metadata": {},
   "outputs": [],
   "source": [
    "import sys\n",
    "!{sys.executable} -m pip install --quiet numpy\n",
    "!{sys.executable} -m pip install --quiet matplotlib\n",
    "\n",
    "import matplotlib.pyplot as plt\n",
    "import numpy as np\n",
    "from ipywidgets import interact, interactive\n",
    "import ipywidgets as widgets"
   ]
  },
  {
   "cell_type": "raw",
   "metadata": {},
   "source": [
    "Define a routine for the trajectory.  The current trajectory ($T_9$ vs. time) is given by $T_9(t) = a * \\exp(-t/\\tau_1) + b * t^n * (1 + \\tanh((t - t_0)/\\tau_2) - b * \\delta_{n,0} * (1 + \\tanh((t_0/\\tau_2))$."
   ]
  },
  {
   "cell_type": "code",
   "execution_count": 2,
   "metadata": {},
   "outputs": [],
   "source": [
    "def get_trajectory(t, a, tau_1, b, n, t_0, tau_2):\n",
    "    result = a * np.exp(-t/tau_1) + b * np.power(t, n) * (1 - np.tanh((t - t_0)/tau_2))\n",
    "    if n == 0:\n",
    "        result -= b * (1 + np.tanh(t_0/tau_2))\n",
    "    return result"
   ]
  },
  {
   "cell_type": "markdown",
   "metadata": {},
   "source": [
    "Plot the trajectory.  Vary the input parameters as desired."
   ]
  },
  {
   "cell_type": "code",
   "execution_count": 3,
   "metadata": {},
   "outputs": [
    {
     "data": {
      "application/vnd.jupyter.widget-view+json": {
       "model_id": "edeb5bca22d840b48b491d2e95dbd092",
       "version_major": 2,
       "version_minor": 0
      },
      "text/plain": [
       "interactive(children=(BoundedFloatText(value=10.0, description='a', max=20.0, step=0.01), BoundedFloatText(val…"
      ]
     },
     "metadata": {},
     "output_type": "display_data"
    },
    {
     "data": {
      "text/plain": [
       "<function __main__.plot_traj(a, tau_1, b, n, t_0, tau_2)>"
      ]
     },
     "execution_count": 3,
     "metadata": {},
     "output_type": "execute_result"
    }
   ],
   "source": [
    "def plot_traj(a, tau_1, b, n, t_0, tau_2):\n",
    "    t = np.linspace(0, 5, 1000)\n",
    "    plt.plot(t, get_trajectory(t, a, tau_1, b, n, t_0, tau_2))\n",
    "\n",
    "interact(plot_traj, a = widgets.BoundedFloatText(value=10, min=0, max = 20, step=0.01, \n",
    "                                              descriptions='a:', disabled=False),\n",
    "            tau_1 = widgets.BoundedFloatText(value=1, min=0, max = 100, step=0.01, \n",
    "                                              descriptions='tau_1:', disabled=False),\n",
    "            b = widgets.BoundedFloatText(value=1, min=0, max = 100, step=0.01, \n",
    "                                              descriptions='b:', disabled=False),\n",
    "            n = widgets.BoundedFloatText(value=1, min=0, max = 10, step=0.01, \n",
    "                                              descriptions='n:', disabled=False),\n",
    "            t_0 = widgets.BoundedFloatText(value=3, min=0, max = 100, step=0.01, \n",
    "                                              descriptions='t_0:', disabled=False),\n",
    "            tau_2 = widgets.BoundedFloatText(value=0.1, min=0, max = 10, step=0.01, \n",
    "                                              descriptions='tau_2:', disabled=False))       "
   ]
  },
  {
   "cell_type": "code",
   "execution_count": null,
   "metadata": {},
   "outputs": [],
   "source": []
  }
 ],
 "metadata": {
  "kernelspec": {
   "display_name": "Python 3 (ipykernel)",
   "language": "python",
   "name": "python3"
  },
  "language_info": {
   "codemirror_mode": {
    "name": "ipython",
    "version": 3
   },
   "file_extension": ".py",
   "mimetype": "text/x-python",
   "name": "python",
   "nbconvert_exporter": "python",
   "pygments_lexer": "ipython3",
   "version": "3.13.2"
  }
 },
 "nbformat": 4,
 "nbformat_minor": 4
}
